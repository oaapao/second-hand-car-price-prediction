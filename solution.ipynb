{
 "cells": [
  {
   "cell_type": "code",
   "execution_count": 1,
   "metadata": {
    "collapsed": true
   },
   "outputs": [
    {
     "name": "stdout",
     "output_type": "stream",
     "text": [
      "Train data shape: (120000, 31)\n",
      "TestA data shape: (30000, 31)\n"
     ]
    },
    {
     "data": {
      "text/plain": "   SaleID    name   regDate  model  brand  bodyType  fuelType  gearbox  power  \\\n0       0     736  20040402   30.0      6       1.0       0.0      0.0     60   \n1       1    2262  20030301   40.0      1       2.0       0.0      0.0      0   \n2       2   14874  20040403  115.0     15       1.0       0.0      0.0    163   \n3       3   71865  19960908  109.0     10       0.0       0.0      1.0    193   \n4       4  111080  20120103  110.0      5       1.0       0.0      0.0     68   \n\n   kilometer  ...       v_5       v_6       v_7       v_8       v_9      v_10  \\\n0       12.5  ...  0.235676  0.101988  0.129549  0.022816  0.097462 -2.881803   \n1       15.0  ...  0.264777  0.121004  0.135731  0.026597  0.020582 -4.900482   \n2       12.5  ...  0.251410  0.114912  0.165147  0.062173  0.027075 -4.846749   \n3       15.0  ...  0.274293  0.110300  0.121964  0.033395  0.000000 -4.509599   \n4        5.0  ...  0.228036  0.073205  0.091880  0.078819  0.121534 -1.896240   \n\n       v_11      v_12      v_13      v_14  \n0  2.804097 -2.420821  0.795292  0.914762  \n1  2.096338 -1.030483 -1.722674  0.245522  \n2  1.803559  1.565330 -0.832687 -0.229963  \n3  1.285940 -0.501868 -2.438353 -0.478699  \n4  0.910783  0.931110  2.834518  1.923482  \n\n[5 rows x 31 columns]",
      "text/html": "<div>\n<style scoped>\n    .dataframe tbody tr th:only-of-type {\n        vertical-align: middle;\n    }\n\n    .dataframe tbody tr th {\n        vertical-align: top;\n    }\n\n    .dataframe thead th {\n        text-align: right;\n    }\n</style>\n<table border=\"1\" class=\"dataframe\">\n  <thead>\n    <tr style=\"text-align: right;\">\n      <th></th>\n      <th>SaleID</th>\n      <th>name</th>\n      <th>regDate</th>\n      <th>model</th>\n      <th>brand</th>\n      <th>bodyType</th>\n      <th>fuelType</th>\n      <th>gearbox</th>\n      <th>power</th>\n      <th>kilometer</th>\n      <th>...</th>\n      <th>v_5</th>\n      <th>v_6</th>\n      <th>v_7</th>\n      <th>v_8</th>\n      <th>v_9</th>\n      <th>v_10</th>\n      <th>v_11</th>\n      <th>v_12</th>\n      <th>v_13</th>\n      <th>v_14</th>\n    </tr>\n  </thead>\n  <tbody>\n    <tr>\n      <th>0</th>\n      <td>0</td>\n      <td>736</td>\n      <td>20040402</td>\n      <td>30.0</td>\n      <td>6</td>\n      <td>1.0</td>\n      <td>0.0</td>\n      <td>0.0</td>\n      <td>60</td>\n      <td>12.5</td>\n      <td>...</td>\n      <td>0.235676</td>\n      <td>0.101988</td>\n      <td>0.129549</td>\n      <td>0.022816</td>\n      <td>0.097462</td>\n      <td>-2.881803</td>\n      <td>2.804097</td>\n      <td>-2.420821</td>\n      <td>0.795292</td>\n      <td>0.914762</td>\n    </tr>\n    <tr>\n      <th>1</th>\n      <td>1</td>\n      <td>2262</td>\n      <td>20030301</td>\n      <td>40.0</td>\n      <td>1</td>\n      <td>2.0</td>\n      <td>0.0</td>\n      <td>0.0</td>\n      <td>0</td>\n      <td>15.0</td>\n      <td>...</td>\n      <td>0.264777</td>\n      <td>0.121004</td>\n      <td>0.135731</td>\n      <td>0.026597</td>\n      <td>0.020582</td>\n      <td>-4.900482</td>\n      <td>2.096338</td>\n      <td>-1.030483</td>\n      <td>-1.722674</td>\n      <td>0.245522</td>\n    </tr>\n    <tr>\n      <th>2</th>\n      <td>2</td>\n      <td>14874</td>\n      <td>20040403</td>\n      <td>115.0</td>\n      <td>15</td>\n      <td>1.0</td>\n      <td>0.0</td>\n      <td>0.0</td>\n      <td>163</td>\n      <td>12.5</td>\n      <td>...</td>\n      <td>0.251410</td>\n      <td>0.114912</td>\n      <td>0.165147</td>\n      <td>0.062173</td>\n      <td>0.027075</td>\n      <td>-4.846749</td>\n      <td>1.803559</td>\n      <td>1.565330</td>\n      <td>-0.832687</td>\n      <td>-0.229963</td>\n    </tr>\n    <tr>\n      <th>3</th>\n      <td>3</td>\n      <td>71865</td>\n      <td>19960908</td>\n      <td>109.0</td>\n      <td>10</td>\n      <td>0.0</td>\n      <td>0.0</td>\n      <td>1.0</td>\n      <td>193</td>\n      <td>15.0</td>\n      <td>...</td>\n      <td>0.274293</td>\n      <td>0.110300</td>\n      <td>0.121964</td>\n      <td>0.033395</td>\n      <td>0.000000</td>\n      <td>-4.509599</td>\n      <td>1.285940</td>\n      <td>-0.501868</td>\n      <td>-2.438353</td>\n      <td>-0.478699</td>\n    </tr>\n    <tr>\n      <th>4</th>\n      <td>4</td>\n      <td>111080</td>\n      <td>20120103</td>\n      <td>110.0</td>\n      <td>5</td>\n      <td>1.0</td>\n      <td>0.0</td>\n      <td>0.0</td>\n      <td>68</td>\n      <td>5.0</td>\n      <td>...</td>\n      <td>0.228036</td>\n      <td>0.073205</td>\n      <td>0.091880</td>\n      <td>0.078819</td>\n      <td>0.121534</td>\n      <td>-1.896240</td>\n      <td>0.910783</td>\n      <td>0.931110</td>\n      <td>2.834518</td>\n      <td>1.923482</td>\n    </tr>\n  </tbody>\n</table>\n<p>5 rows × 31 columns</p>\n</div>"
     },
     "execution_count": 1,
     "metadata": {},
     "output_type": "execute_result"
    }
   ],
   "source": [
    "import pandas as pd\n",
    "\n",
    "train_data = pd.read_csv('data/train.csv', sep=' ')\n",
    "test_data = pd.read_csv('data/test.csv', sep=' ')\n",
    "\n",
    "# 输出数据的大小信息\n",
    "print('Train data shape:', train_data.shape)\n",
    "print('TestA data shape:', test_data.shape)\n",
    "\n",
    "train_data.head()\n"
   ]
  },
  {
   "cell_type": "code",
   "execution_count": 2,
   "outputs": [
    {
     "name": "stdout",
     "output_type": "stream",
     "text": [
      "<class 'pandas.core.frame.DataFrame'>\n",
      "RangeIndex: 120000 entries, 0 to 119999\n",
      "Data columns (total 31 columns):\n",
      " #   Column             Non-Null Count   Dtype  \n",
      "---  ------             --------------   -----  \n",
      " 0   SaleID             120000 non-null  int64  \n",
      " 1   name               120000 non-null  int64  \n",
      " 2   regDate            120000 non-null  int64  \n",
      " 3   model              119999 non-null  float64\n",
      " 4   brand              120000 non-null  int64  \n",
      " 5   bodyType           116401 non-null  float64\n",
      " 6   fuelType           113063 non-null  float64\n",
      " 7   gearbox            115181 non-null  float64\n",
      " 8   power              120000 non-null  int64  \n",
      " 9   kilometer          120000 non-null  float64\n",
      " 10  notRepairedDamage  120000 non-null  object \n",
      " 11  regionCode         120000 non-null  int64  \n",
      " 12  seller             120000 non-null  int64  \n",
      " 13  offerType          120000 non-null  int64  \n",
      " 14  creatDate          120000 non-null  int64  \n",
      " 15  price              120000 non-null  int64  \n",
      " 16  v_0                120000 non-null  float64\n",
      " 17  v_1                120000 non-null  float64\n",
      " 18  v_2                120000 non-null  float64\n",
      " 19  v_3                120000 non-null  float64\n",
      " 20  v_4                120000 non-null  float64\n",
      " 21  v_5                120000 non-null  float64\n",
      " 22  v_6                120000 non-null  float64\n",
      " 23  v_7                120000 non-null  float64\n",
      " 24  v_8                120000 non-null  float64\n",
      " 25  v_9                120000 non-null  float64\n",
      " 26  v_10               120000 non-null  float64\n",
      " 27  v_11               120000 non-null  float64\n",
      " 28  v_12               120000 non-null  float64\n",
      " 29  v_13               120000 non-null  float64\n",
      " 30  v_14               120000 non-null  float64\n",
      "dtypes: float64(20), int64(10), object(1)\n",
      "memory usage: 28.4+ MB\n"
     ]
    }
   ],
   "source": [
    "train_data.info()"
   ],
   "metadata": {
    "collapsed": false
   }
  },
  {
   "cell_type": "code",
   "execution_count": 3,
   "outputs": [
    {
     "data": {
      "text/plain": "              SaleID           name       regDate          model        brand  \\\ncount  120000.000000  120000.000000  1.200000e+05  119999.000000  120000.0000   \nmean    59999.500000   68395.840675  2.003414e+07      47.151351       8.0499   \nstd     34641.160489   61130.560135  5.366027e+04      49.522610       7.8633   \nmin         0.000000       0.000000  1.991000e+07       0.000000       0.0000   \n25%     29999.750000   11170.000000  1.999091e+07      10.000000       1.0000   \n50%     59999.500000   51643.000000  2.003091e+07      30.000000       6.0000   \n75%     89999.250000  118971.500000  2.007111e+07      66.000000      13.0000   \nmax    119999.000000  196812.000000  2.015121e+07     246.000000      39.0000   \n\n            bodyType       fuelType        gearbox          power  \\\ncount  116401.000000  113063.000000  115181.000000  120000.000000   \nmean        1.794186       0.375419       0.224794     119.253900   \nstd         1.760268       0.548548       0.417448     165.681929   \nmin         0.000000       0.000000       0.000000       0.000000   \n25%         0.000000       0.000000       0.000000      75.000000   \n50%         1.000000       0.000000       0.000000     110.000000   \n75%         3.000000       1.000000       0.000000     150.000000   \nmax         7.000000       6.000000       1.000000   17932.000000   \n\n           kilometer  ...            v_5            v_6            v_7  \\\ncount  120000.000000  ...  120000.000000  120000.000000  120000.000000   \nmean       12.596321  ...       0.248202       0.044911       0.124694   \nstd         3.919443  ...       0.045773       0.051725       0.201148   \nmin         0.500000  ...       0.000000       0.000000       0.000000   \n25%        12.500000  ...       0.243587       0.000039       0.062618   \n50%        15.000000  ...       0.257783       0.000813       0.095917   \n75%        15.000000  ...       0.265297       0.102018       0.125390   \nmax        15.000000  ...       0.291838       0.151420       1.404936   \n\n                 v_8            v_9           v_10           v_11  \\\ncount  120000.000000  120000.000000  120000.000000  120000.000000   \nmean        0.058152       0.062036      -0.000681       0.008014   \nstd         0.029223       0.035708       3.770643       3.285570   \nmin         0.000000       0.000000      -9.168192      -5.558207   \n25%         0.035306       0.033957      -3.718115      -1.949250   \n50%         0.057039       0.058527       1.621640      -0.359056   \n75%         0.079424       0.087543       2.843724       1.254286   \nmax         0.159710       0.222787      12.357011      18.819042   \n\n                v_12           v_13           v_14  \ncount  120000.000000  120000.000000  120000.000000  \nmean        0.005423       0.000859      -0.002109  \nstd         2.520264       1.287522       1.037764  \nmin        -9.639552      -4.153899      -6.546556  \n25%        -1.874775      -1.055301      -0.438598  \n50%        -0.127026      -0.037694       0.139520  \n75%         1.778553       0.942991       0.678931  \nmax        13.847792      11.147669       8.658418  \n\n[8 rows x 30 columns]",
      "text/html": "<div>\n<style scoped>\n    .dataframe tbody tr th:only-of-type {\n        vertical-align: middle;\n    }\n\n    .dataframe tbody tr th {\n        vertical-align: top;\n    }\n\n    .dataframe thead th {\n        text-align: right;\n    }\n</style>\n<table border=\"1\" class=\"dataframe\">\n  <thead>\n    <tr style=\"text-align: right;\">\n      <th></th>\n      <th>SaleID</th>\n      <th>name</th>\n      <th>regDate</th>\n      <th>model</th>\n      <th>brand</th>\n      <th>bodyType</th>\n      <th>fuelType</th>\n      <th>gearbox</th>\n      <th>power</th>\n      <th>kilometer</th>\n      <th>...</th>\n      <th>v_5</th>\n      <th>v_6</th>\n      <th>v_7</th>\n      <th>v_8</th>\n      <th>v_9</th>\n      <th>v_10</th>\n      <th>v_11</th>\n      <th>v_12</th>\n      <th>v_13</th>\n      <th>v_14</th>\n    </tr>\n  </thead>\n  <tbody>\n    <tr>\n      <th>count</th>\n      <td>120000.000000</td>\n      <td>120000.000000</td>\n      <td>1.200000e+05</td>\n      <td>119999.000000</td>\n      <td>120000.0000</td>\n      <td>116401.000000</td>\n      <td>113063.000000</td>\n      <td>115181.000000</td>\n      <td>120000.000000</td>\n      <td>120000.000000</td>\n      <td>...</td>\n      <td>120000.000000</td>\n      <td>120000.000000</td>\n      <td>120000.000000</td>\n      <td>120000.000000</td>\n      <td>120000.000000</td>\n      <td>120000.000000</td>\n      <td>120000.000000</td>\n      <td>120000.000000</td>\n      <td>120000.000000</td>\n      <td>120000.000000</td>\n    </tr>\n    <tr>\n      <th>mean</th>\n      <td>59999.500000</td>\n      <td>68395.840675</td>\n      <td>2.003414e+07</td>\n      <td>47.151351</td>\n      <td>8.0499</td>\n      <td>1.794186</td>\n      <td>0.375419</td>\n      <td>0.224794</td>\n      <td>119.253900</td>\n      <td>12.596321</td>\n      <td>...</td>\n      <td>0.248202</td>\n      <td>0.044911</td>\n      <td>0.124694</td>\n      <td>0.058152</td>\n      <td>0.062036</td>\n      <td>-0.000681</td>\n      <td>0.008014</td>\n      <td>0.005423</td>\n      <td>0.000859</td>\n      <td>-0.002109</td>\n    </tr>\n    <tr>\n      <th>std</th>\n      <td>34641.160489</td>\n      <td>61130.560135</td>\n      <td>5.366027e+04</td>\n      <td>49.522610</td>\n      <td>7.8633</td>\n      <td>1.760268</td>\n      <td>0.548548</td>\n      <td>0.417448</td>\n      <td>165.681929</td>\n      <td>3.919443</td>\n      <td>...</td>\n      <td>0.045773</td>\n      <td>0.051725</td>\n      <td>0.201148</td>\n      <td>0.029223</td>\n      <td>0.035708</td>\n      <td>3.770643</td>\n      <td>3.285570</td>\n      <td>2.520264</td>\n      <td>1.287522</td>\n      <td>1.037764</td>\n    </tr>\n    <tr>\n      <th>min</th>\n      <td>0.000000</td>\n      <td>0.000000</td>\n      <td>1.991000e+07</td>\n      <td>0.000000</td>\n      <td>0.0000</td>\n      <td>0.000000</td>\n      <td>0.000000</td>\n      <td>0.000000</td>\n      <td>0.000000</td>\n      <td>0.500000</td>\n      <td>...</td>\n      <td>0.000000</td>\n      <td>0.000000</td>\n      <td>0.000000</td>\n      <td>0.000000</td>\n      <td>0.000000</td>\n      <td>-9.168192</td>\n      <td>-5.558207</td>\n      <td>-9.639552</td>\n      <td>-4.153899</td>\n      <td>-6.546556</td>\n    </tr>\n    <tr>\n      <th>25%</th>\n      <td>29999.750000</td>\n      <td>11170.000000</td>\n      <td>1.999091e+07</td>\n      <td>10.000000</td>\n      <td>1.0000</td>\n      <td>0.000000</td>\n      <td>0.000000</td>\n      <td>0.000000</td>\n      <td>75.000000</td>\n      <td>12.500000</td>\n      <td>...</td>\n      <td>0.243587</td>\n      <td>0.000039</td>\n      <td>0.062618</td>\n      <td>0.035306</td>\n      <td>0.033957</td>\n      <td>-3.718115</td>\n      <td>-1.949250</td>\n      <td>-1.874775</td>\n      <td>-1.055301</td>\n      <td>-0.438598</td>\n    </tr>\n    <tr>\n      <th>50%</th>\n      <td>59999.500000</td>\n      <td>51643.000000</td>\n      <td>2.003091e+07</td>\n      <td>30.000000</td>\n      <td>6.0000</td>\n      <td>1.000000</td>\n      <td>0.000000</td>\n      <td>0.000000</td>\n      <td>110.000000</td>\n      <td>15.000000</td>\n      <td>...</td>\n      <td>0.257783</td>\n      <td>0.000813</td>\n      <td>0.095917</td>\n      <td>0.057039</td>\n      <td>0.058527</td>\n      <td>1.621640</td>\n      <td>-0.359056</td>\n      <td>-0.127026</td>\n      <td>-0.037694</td>\n      <td>0.139520</td>\n    </tr>\n    <tr>\n      <th>75%</th>\n      <td>89999.250000</td>\n      <td>118971.500000</td>\n      <td>2.007111e+07</td>\n      <td>66.000000</td>\n      <td>13.0000</td>\n      <td>3.000000</td>\n      <td>1.000000</td>\n      <td>0.000000</td>\n      <td>150.000000</td>\n      <td>15.000000</td>\n      <td>...</td>\n      <td>0.265297</td>\n      <td>0.102018</td>\n      <td>0.125390</td>\n      <td>0.079424</td>\n      <td>0.087543</td>\n      <td>2.843724</td>\n      <td>1.254286</td>\n      <td>1.778553</td>\n      <td>0.942991</td>\n      <td>0.678931</td>\n    </tr>\n    <tr>\n      <th>max</th>\n      <td>119999.000000</td>\n      <td>196812.000000</td>\n      <td>2.015121e+07</td>\n      <td>246.000000</td>\n      <td>39.0000</td>\n      <td>7.000000</td>\n      <td>6.000000</td>\n      <td>1.000000</td>\n      <td>17932.000000</td>\n      <td>15.000000</td>\n      <td>...</td>\n      <td>0.291838</td>\n      <td>0.151420</td>\n      <td>1.404936</td>\n      <td>0.159710</td>\n      <td>0.222787</td>\n      <td>12.357011</td>\n      <td>18.819042</td>\n      <td>13.847792</td>\n      <td>11.147669</td>\n      <td>8.658418</td>\n    </tr>\n  </tbody>\n</table>\n<p>8 rows × 30 columns</p>\n</div>"
     },
     "execution_count": 3,
     "metadata": {},
     "output_type": "execute_result"
    }
   ],
   "source": [
    "train_data.describe()"
   ],
   "metadata": {
    "collapsed": false
   }
  }
 ],
 "metadata": {
  "kernelspec": {
   "display_name": "Python 3",
   "language": "python",
   "name": "python3"
  },
  "language_info": {
   "codemirror_mode": {
    "name": "ipython",
    "version": 2
   },
   "file_extension": ".py",
   "mimetype": "text/x-python",
   "name": "python",
   "nbconvert_exporter": "python",
   "pygments_lexer": "ipython2",
   "version": "2.7.6"
  }
 },
 "nbformat": 4,
 "nbformat_minor": 0
}
